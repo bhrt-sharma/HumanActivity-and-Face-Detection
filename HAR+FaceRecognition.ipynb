{
 "cells": [
  {
   "cell_type": "code",
   "execution_count": 1,
   "metadata": {},
   "outputs": [],
   "source": [
    "# import the necessary packages\n",
    "import numpy as np\n",
    "import imutils\n",
    "import sys\n",
    "import cv2\n",
    "import os"
   ]
  },
  {
   "cell_type": "code",
   "execution_count": 2,
   "metadata": {},
   "outputs": [
    {
     "data": {
      "text/plain": [
       "['.ipynb_checkpoints',\n",
       " 'README.md',\n",
       " 'example_activities.mp4',\n",
       " 'HAR+FaceRecognition.ipynb',\n",
       " 'resnet-34_kinetics.onnx',\n",
       " 'action_recognition_kinetics.txt',\n",
       " 'human_activity_reco_deque.py',\n",
       " '.git']"
      ]
     },
     "execution_count": 2,
     "metadata": {},
     "output_type": "execute_result"
    }
   ],
   "source": [
    "cwd=os.listdir()\n",
    "cwd"
   ]
  },
  {
   "cell_type": "code",
   "execution_count": 3,
   "metadata": {},
   "outputs": [],
   "source": [
    "model = \"resnet-34_kinetics.onnx\"\n",
    "#  = \"action_recognition_kinetics.txt\"\n",
    "CLASSES=open(\"action_recognition_kinetics.txt\").read().strip().split(\"\\n\")\n",
    "input_video = \"videoplayback.mp4\""
   ]
  },
  {
   "cell_type": "code",
   "execution_count": 4,
   "metadata": {},
   "outputs": [],
   "source": [
    "SAMPLE_DURATION = 16\n",
    "SAMPLE_SIZE = 112\n",
    "# duration (i.e., # of frames for classification) and sample size\n",
    "# (i.e., the spatial dimensions of the frame)"
   ]
  },
  {
   "cell_type": "code",
   "execution_count": 5,
   "metadata": {},
   "outputs": [],
   "source": [
    "net = cv2.dnn.readNet(model)"
   ]
  },
  {
   "cell_type": "code",
   "execution_count": 6,
   "metadata": {},
   "outputs": [],
   "source": [
    "vs = cv2.VideoCapture(input_video)"
   ]
  },
  {
   "cell_type": "code",
   "execution_count": 14,
   "metadata": {},
   "outputs": [
    {
     "ename": "KeyboardInterrupt",
     "evalue": "",
     "output_type": "error",
     "traceback": [
      "\u001b[0;31m---------------------------------------------------------------------------\u001b[0m",
      "\u001b[0;31mKeyboardInterrupt\u001b[0m                         Traceback (most recent call last)",
      "\u001b[0;32m<ipython-input-14-0b5c67092fb1>\u001b[0m in \u001b[0;36m<module>\u001b[0;34m\u001b[0m\n\u001b[1;32m     31\u001b[0m         \u001b[0;31m# recognition predictions\u001b[0m\u001b[0;34m\u001b[0m\u001b[0;34m\u001b[0m\u001b[0;34m\u001b[0m\u001b[0m\n\u001b[1;32m     32\u001b[0m         \u001b[0mnet\u001b[0m\u001b[0;34m.\u001b[0m\u001b[0msetInput\u001b[0m\u001b[0;34m(\u001b[0m\u001b[0mblob\u001b[0m\u001b[0;34m)\u001b[0m\u001b[0;34m\u001b[0m\u001b[0;34m\u001b[0m\u001b[0m\n\u001b[0;32m---> 33\u001b[0;31m         \u001b[0moutputs\u001b[0m \u001b[0;34m=\u001b[0m \u001b[0mnet\u001b[0m\u001b[0;34m.\u001b[0m\u001b[0mforward\u001b[0m\u001b[0;34m(\u001b[0m\u001b[0;34m)\u001b[0m\u001b[0;34m\u001b[0m\u001b[0;34m\u001b[0m\u001b[0m\n\u001b[0m\u001b[1;32m     34\u001b[0m         \u001b[0mlabel\u001b[0m \u001b[0;34m=\u001b[0m \u001b[0mCLASSES\u001b[0m\u001b[0;34m[\u001b[0m\u001b[0mnp\u001b[0m\u001b[0;34m.\u001b[0m\u001b[0margmax\u001b[0m\u001b[0;34m(\u001b[0m\u001b[0moutputs\u001b[0m\u001b[0;34m)\u001b[0m\u001b[0;34m]\u001b[0m\u001b[0;34m\u001b[0m\u001b[0;34m\u001b[0m\u001b[0m\n\u001b[1;32m     35\u001b[0m \u001b[0;34m\u001b[0m\u001b[0m\n",
      "\u001b[0;31mKeyboardInterrupt\u001b[0m: "
     ]
    }
   ],
   "source": [
    "# loop until we explicitly break from it\n",
    "while True:\n",
    "\t# initialize the batch of frames that will be passed through the\n",
    "\t# model\n",
    "\tframes = []\n",
    "\n",
    "\t# loop over the number of required sample frames\n",
    "\tfor i in range(0, SAMPLE_DURATION):\n",
    "\t\t# read a frame from the video stream\n",
    "\t\t(grabbed, frame) = vs.read()\n",
    "\n",
    "\t\t# if the frame was not grabbed then we've reached the end of\n",
    "\t\t# the video stream so exit the script\n",
    "\t\tif not grabbed:\n",
    "\t\t\tprint(\"[INFO] no frame read from stream - exiting\")\n",
    "\t\t\tsys.exit(0)\n",
    "\n",
    "\t\t# otherwise, the frame was read so resize it and add it to\n",
    "\t\t# our frames list\n",
    "\t\tframe = imutils.resize(frame, width=400)\n",
    "\t\tframes.append(frame)\n",
    "\n",
    "\t# now that our frames array is filled we can construct our blob\n",
    "\tblob = cv2.dnn.blobFromImages(frames, 1.0,\n",
    "\t\t(SAMPLE_SIZE, SAMPLE_SIZE), (114.7748, 107.7354, 99.4750),\n",
    "\t\tswapRB=True, crop=True)\n",
    "\tblob = np.transpose(blob, (1, 0, 2, 3))\n",
    "\tblob = np.expand_dims(blob, axis=0)\n",
    "\n",
    "\t# pass the blob through the network to obtain our human activity\n",
    "\t# recognition predictions\n",
    "\tnet.setInput(blob)\n",
    "\toutputs = net.forward()\n",
    "\tlabel = CLASSES[np.argmax(outputs)]\n",
    "\n",
    "\t# loop over our frames\n",
    "\tfor frame in frames:\n",
    "\t\t# draw the predicted activity on the frame\n",
    "\t\tcv2.rectangle(frame, (0, 0), (300, 40), (0, 0, 0), -1)\n",
    "\t\tcv2.putText(frame, label, (10, 25), cv2.FONT_HERSHEY_SIMPLEX,0.8, (255, 255, 255), 2)\n",
    "\n",
    "\t\t# display the frame to our screen\n",
    "\t\tcv2.imshow(\"Activity Recognition\", frame)\n",
    "\t\tkey = cv2.waitKey(1) & 0xFF\n",
    "\n",
    "\t\t# if the `q` key was pressed, break from the loop\n",
    "\t\tif key == ord(\"q\"):\n",
    "\t\t\tbreak"
   ]
  },
  {
   "cell_type": "code",
   "execution_count": null,
   "metadata": {},
   "outputs": [],
   "source": []
  },
  {
   "cell_type": "code",
   "execution_count": null,
   "metadata": {},
   "outputs": [],
   "source": []
  },
  {
   "cell_type": "code",
   "execution_count": null,
   "metadata": {},
   "outputs": [],
   "source": []
  },
  {
   "cell_type": "code",
   "execution_count": null,
   "metadata": {},
   "outputs": [],
   "source": []
  },
  {
   "cell_type": "code",
   "execution_count": null,
   "metadata": {},
   "outputs": [],
   "source": []
  },
  {
   "cell_type": "code",
   "execution_count": null,
   "metadata": {},
   "outputs": [],
   "source": []
  },
  {
   "cell_type": "code",
   "execution_count": null,
   "metadata": {},
   "outputs": [],
   "source": []
  },
  {
   "cell_type": "code",
   "execution_count": null,
   "metadata": {},
   "outputs": [],
   "source": []
  }
 ],
 "metadata": {
  "kernelspec": {
   "display_name": "Python 3",
   "language": "python",
   "name": "python3"
  },
  "language_info": {
   "codemirror_mode": {
    "name": "ipython",
    "version": 3
   },
   "file_extension": ".py",
   "mimetype": "text/x-python",
   "name": "python",
   "nbconvert_exporter": "python",
   "pygments_lexer": "ipython3",
   "version": "3.6.9"
  }
 },
 "nbformat": 4,
 "nbformat_minor": 4
}
